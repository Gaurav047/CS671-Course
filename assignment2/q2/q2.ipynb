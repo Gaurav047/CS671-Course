{
 "cells": [
  {
   "cell_type": "code",
   "execution_count": 1,
   "metadata": {},
   "outputs": [],
   "source": [
    "import numpy as np\n",
    "import tensorflow as tf\n",
    "import matplotlib.pyplot as plt\n",
    "from glob import glob\n",
    "import cv2\n",
    "from sklearn.metrics import confusion_matrix as conmat, f1_score\n",
    "from pprint import pprint"
   ]
  },
  {
   "cell_type": "code",
   "execution_count": 2,
   "metadata": {},
   "outputs": [],
   "source": [
    "imgs, labels = list(), list()\n",
    "\n",
    "for i in range(2):\n",
    "    for j in range(2):\n",
    "        for k in range(12):\n",
    "            for l in range(2):\n",
    "                S = \"{}_{}_{}_{}\".format(i,j,k,l)\n",
    "                files = glob(\"../../assignment1/q1/images/{}/*.jpg\".format(S))\n",
    "                for file in files:\n",
    "                    imgs.append(cv2.imread(file))\n",
    "                    labels.append([i,j,k,l])\n",
    "\n",
    "imgs = np.array(imgs, dtype=float)/255.0\n",
    "labels = np.array(labels, dtype=int)\n",
    "\n",
    "# np.save(\"../imgs.npy\",imgs)\n",
    "# np.save(\"../labels.npy\",labels)"
   ]
  },
  {
   "cell_type": "code",
   "execution_count": 3,
   "metadata": {},
   "outputs": [],
   "source": [
    "# imgs, labels = np.load(\"../imgs.npy\"), np.load(\"../labels.npy\")"
   ]
  },
  {
   "cell_type": "code",
   "execution_count": 4,
   "metadata": {},
   "outputs": [],
   "source": [
    "def shuffle(a,b):\n",
    "    indices = np.arange(a.shape[0])\n",
    "    np.random.shuffle(indices)\n",
    "    a = a[indices]\n",
    "    b = b[indices]\n",
    "    return a,b"
   ]
  },
  {
   "cell_type": "code",
   "execution_count": 5,
   "metadata": {},
   "outputs": [
    {
     "data": {
      "image/png": "[encoded data removed]",
      "text/plain": [
       "<Figure size 432x288 with 2 Axes>"
      ]
     },
     "metadata": {
      "needs_background": "light"
     },
     "output_type": "display_data"
    },
    {
     "name": "stdout",
     "output_type": "stream",
     "text": [
      "[1 0 2 1] [1 1 7 1]\n"
     ]
    }
   ],
   "source": [
    "imgs, labels = shuffle(imgs,labels)\n",
    "imgstr, labelstr = imgs[:76000], labels[:76000]\n",
    "imgste, labelste = imgs[76000:], labels[76000:]\n",
    "plt.subplot(2,2,1)\n",
    "plt.imshow(imgstr[-1])\n",
    "plt.subplot(2,2,2)\n",
    "plt.imshow(imgste[-1])\n",
    "plt.show()\n",
    "print(labelstr[-1], labelste[-1])"
   ]
  },
  {
   "cell_type": "code",
   "execution_count": 6,
   "metadata": {},
   "outputs": [],
   "source": [
    "#this function is useful in order to delete old graphs\n",
    "def reset_graph(seed=42):\n",
    "    tf.reset_default_graph()\n",
    "    tf.set_random_seed(seed)\n",
    "    np.random.seed(seed)"
   ]
  },
  {
   "cell_type": "code",
   "execution_count": 7,
   "metadata": {},
   "outputs": [],
   "source": [
    "# one hot encoding\n",
    "def onehot(classes, tensor):\n",
    "    N = tensor.shape[0]\n",
    "    a = np.zeros((N, classes), dtype=int)\n",
    "    for i,t in enumerate(tensor):\n",
    "        a[i][t] = 1\n",
    "    return a"
   ]
  },
  {
   "cell_type": "code",
   "execution_count": 8,
   "metadata": {},
   "outputs": [
    {
     "name": "stdout",
     "output_type": "stream",
     "text": [
      "[1 0 2 1] [0 0 1 0 0 0 0 0 0 0 0 0]\n",
      "[1 1 7 1] [0 0 0 0 0 0 0 1 0 0 0 0]\n",
      "(76000, 28, 28, 3) (76000, 12)\n"
     ]
    }
   ],
   "source": [
    "anglestr = onehot(12, labelstr[:,2])\n",
    "angleste = onehot(12, labelste[:,2])\n",
    "print (labelstr[-1], anglestr[-1])\n",
    "print (labelste[-1], angleste[-1])\n",
    "print(imgstr.shape, anglestr.shape)"
   ]
  },
  {
   "cell_type": "code",
   "execution_count": 9,
   "metadata": {},
   "outputs": [],
   "source": [
    "with tf.name_scope(\"inputs\"):\n",
    "    X = tf.placeholder(tf.float32, shape=[None, 28, 28, 3], name=\"X\")\n",
    "    y0 = tf.placeholder(tf.float32, shape=[None], name=\"y0\")\n",
    "    y1 = tf.placeholder(tf.float32, shape=[None], name=\"y1\")\n",
    "    y2 = tf.placeholder(tf.float32, shape=[None], name=\"y2\")\n",
    "    y3 = tf.placeholder(tf.float32, shape=[None, 12], name=\"y3\")\n",
    "    \n",
    "conv1_filters=6\n",
    "conv2_filters=8\n",
    "\n",
    "conv1 = tf.layers.conv2d(X, filters=conv1_filters, kernel_size=5, padding='SAME', activation=tf.nn.relu)\n",
    "pool1 = tf.nn.max_pool(conv1, ksize=[1,2,2,1], strides=[1,2,2,1], padding='VALID')\n",
    "conv2 = tf.layers.conv2d(pool1, filters=conv2_filters, kernel_size=5, padding='SAME', activation=tf.nn.relu)\n",
    "pool2 = tf.nn.max_pool(conv2, ksize=[1,2,2,1], strides=[1,2,2,1], padding='VALID')\n",
    "flat = tf.reshape(pool2, shape=[-1, np.prod([v.value for v in pool2.shape[1:]])])\n",
    "\n",
    "# first head for length\n",
    "fc10 = tf.layers.dense(flat, 32, activation=tf.nn.relu)\n",
    "fc20 = tf.layers.dense(fc10, 1)\n",
    "fc20_r = tf.reshape(fc20, shape=[-1])\n",
    "y0_ = tf.nn.sigmoid(fc20)\n",
    "xentropy0 = tf.nn.sigmoid_cross_entropy_with_logits(labels=y0, logits=fc20_r)\n",
    "loss0 = tf.reduce_mean(xentropy0)\n",
    "correct0 = tf.cast(tf.equal(tf.reshape(tf.round(y0_),shape=[-1]),y0),tf.int32)\n",
    "\n",
    "# second head for width\n",
    "fc11 = tf.layers.dense(flat, 32, activation=tf.nn.relu)\n",
    "fc21 = tf.layers.dense(fc11, 1)\n",
    "fc21_r = tf.reshape(fc21, shape=[-1])\n",
    "y1_ = tf.nn.sigmoid(fc21)\n",
    "xentropy1 = tf.nn.sigmoid_cross_entropy_with_logits(labels=y1, logits=fc21_r)\n",
    "loss1 = tf.reduce_mean(xentropy1)\n",
    "correct1 = tf.cast(tf.equal(tf.reshape(tf.round(y1_),shape=[-1]),y1),tf.int32)\n",
    "\n",
    "# third head for color\n",
    "fc12 = tf.layers.dense(flat, 32, activation=tf.nn.relu)\n",
    "fc22 = tf.layers.dense(fc12, 1)\n",
    "fc22_r = tf.reshape(fc22, shape=[-1])\n",
    "y2_ = tf.nn.sigmoid(fc22)\n",
    "xentropy2 = tf.nn.sigmoid_cross_entropy_with_logits(labels=y2, logits=fc22_r)\n",
    "loss2 = tf.reduce_mean(xentropy2)\n",
    "correct2 = tf.cast(tf.equal(tf.reshape(tf.round(y2_),shape=[-1]),y2),tf.int32)\n",
    "\n",
    "# fourth head for angle\n",
    "fc13 = tf.layers.dense(flat, 128, activation=tf.nn.relu)\n",
    "fc23 = tf.layers.dense(fc13, 12)\n",
    "y3_ = tf.nn.softmax(fc23)\n",
    "xentropy3 = tf.nn.sparse_softmax_cross_entropy_with_logits(logits=fc23, labels=tf.argmax(y3,1))\n",
    "loss3 = tf.reduce_mean(xentropy3)\n",
    "correct3 = tf.cast(tf.nn.in_top_k(y3_,tf.argmax(y3,1),1), tf.int32)\n",
    "\n",
    "# overall loss is sum of all losses\n",
    "loss = loss0+loss1+loss2+loss3\n",
    "\n",
    "# backpropagate on loss\n",
    "optimizer = tf.train.AdamOptimizer()\n",
    "training_op = optimizer.minimize(loss)\n",
    "\n",
    "# a prediction is correct only if all heads predict correct labels\n",
    "correct = tf.cast((correct0+correct1+correct2+correct3)/4, tf.int32)\n",
    "accuracy = tf.reduce_mean(tf.cast(correct, tf.float32))\n",
    "\n",
    "initer = tf.global_variables_initializer()\n",
    "saver = tf.train.Saver()\n"
   ]
  },
  {
   "cell_type": "code",
   "execution_count": 10,
   "metadata": {},
   "outputs": [],
   "source": [
    "epochs = 16\n",
    "batch_size = 1000"
   ]
  },
  {
   "cell_type": "code",
   "execution_count": 11,
   "metadata": {},
   "outputs": [
    {
     "name": "stdout",
     "output_type": "stream",
     "text": [
      "Epoch: 1 Loss: 259.5844261646271 Train accuracy: 0.49 test accuracy: 0.479\n",
      "Epoch: 2 Loss: 84.57144284248352 Train accuracy: 0.792 test accuracy: 0.789\n",
      "Epoch: 3 Loss: 42.06794583797455 Train accuracy: 0.87 test accuracy: 0.86875\n",
      "Epoch: 4 Loss: 28.168958842754364 Train accuracy: 0.915 test accuracy: 0.9117\n",
      "Epoch: 5 Loss: 21.05664137005806 Train accuracy: 0.962 test accuracy: 0.95025\n",
      "Epoch: 6 Loss: 15.831823706626892 Train accuracy: 0.961 test accuracy: 0.95015\n",
      "Epoch: 7 Loss: 12.770900696516037 Train accuracy: 0.983 test accuracy: 0.96945\n",
      "Epoch: 8 Loss: 9.742418467998505 Train accuracy: 0.988 test accuracy: 0.9787\n",
      "Epoch: 9 Loss: 8.001440472900867 Train accuracy: 0.989 test accuracy: 0.9873\n",
      "Epoch: 10 Loss: 6.359338536858559 Train accuracy: 0.989 test accuracy: 0.98975\n",
      "Epoch: 11 Loss: 5.2654339000582695 Train accuracy: 0.995 test accuracy: 0.99235\n",
      "Epoch: 12 Loss: 4.385871887207031 Train accuracy: 0.996 test accuracy: 0.9927\n",
      "Epoch: 13 Loss: 4.739817559719086 Train accuracy: 0.996 test accuracy: 0.9943\n",
      "Epoch: 14 Loss: 3.3406385108828545 Train accuracy: 0.999 test accuracy: 0.995\n",
      "Epoch: 15 Loss: 2.80336762778461 Train accuracy: 0.998 test accuracy: 0.99685\n",
      "Epoch: 16 Loss: 2.4444577172398567 Train accuracy: 0.999 test accuracy: 0.99675\n"
     ]
    }
   ],
   "source": [
    "accur_list = np.zeros((epochs,), dtype=float)\n",
    "loss_list = np.zeros((epochs,), dtype=float)\n",
    "\n",
    "with tf.Session() as sess:\n",
    "    initer.run()\n",
    "    for epoch in range(epochs):\n",
    "        imgstr, labelstr = shuffle(imgstr,labelstr)\n",
    "        anglestr = onehot(12, labelstr[:,2])\n",
    "        for i in range(int(76000/batch_size)):\n",
    "            X_batch = imgstr[i*batch_size:(i+1)*batch_size]\n",
    "            y0_batch = labelstr[:,0][i*batch_size:(i+1)*batch_size]\n",
    "            y1_batch = labelstr[:,1][i*batch_size:(i+1)*batch_size]\n",
    "            y2_batch = labelstr[:,3][i*batch_size:(i+1)*batch_size]\n",
    "            y3_batch = anglestr[i*batch_size:(i+1)*batch_size]\n",
    "            tmp,_ = sess.run((loss,training_op), feed_dict = {X:X_batch, y3:y3_batch, y0:y0_batch, y1:y1_batch, y2:y2_batch})\n",
    "            loss_list[epoch] += tmp\n",
    "        \n",
    "        acc_train = accuracy.eval(feed_dict={X: X_batch, y3:y3_batch, y0:y0_batch, y1:y1_batch, y2:y2_batch})\n",
    "        acc_test = accuracy.eval(feed_dict={X:imgste, y3:angleste, y0:labelste[:,0], y1:labelste[:,1], y2:labelste[:,3]})\n",
    "        accur_list[epoch] = acc_test\n",
    "        print(\"Epoch:\",epoch+1, \"Loss:\", loss_list[epoch], \"Train accuracy:\", acc_train, \"test accuracy:\", acc_test)\n",
    "    out0, out1, out2, out3 = sess.run((y0_,y1_,y2_,y3_), feed_dict={X:imgste, y3:angleste, y0:labelste[:,0], y1:labelste[:,1], y2:labelste[:,3]})"
   ]
  },
  {
   "cell_type": "code",
   "execution_count": 12,
   "metadata": {},
   "outputs": [
    {
     "name": "stdout",
     "output_type": "stream",
     "text": [
      "-----Loss-----\n"
     ]
    },
    {
     "data": {
      "image/png": "[encoded data removed]",
      "text/plain": [
       "<Figure size 432x288 with 1 Axes>"
      ]
     },
     "metadata": {
      "needs_background": "light"
     },
     "output_type": "display_data"
    }
   ],
   "source": [
    "print(\"-----Loss-----\")\n",
    "plt.plot(loss_list)\n",
    "plt.show()"
   ]
  },
  {
   "cell_type": "code",
   "execution_count": 13,
   "metadata": {},
   "outputs": [
    {
     "name": "stdout",
     "output_type": "stream",
     "text": [
      "-----Accuracy-----\n"
     ]
    },
    {
     "data": {
      "image/png": "[encoded data removed]",
      "text/plain": [
       "<Figure size 432x288 with 1 Axes>"
      ]
     },
     "metadata": {
      "needs_background": "light"
     },
     "output_type": "display_data"
    }
   ],
   "source": [
    "print(\"-----Accuracy-----\")\n",
    "plt.plot(accur_list)\n",
    "plt.show()"
   ]
  },
  {
   "cell_type": "code",
   "execution_count": 14,
   "metadata": {},
   "outputs": [
    {
     "name": "stdout",
     "output_type": "stream",
     "text": [
      "Confusion matrix for HEAD 0 (length)\n",
      "\n",
      "[[ 9985     0]\n",
      " [    0 10015]]\n",
      "\n",
      "F-Score : 1.0\n"
     ]
    }
   ],
   "source": [
    "cm0 = conmat(labelste[:,0],np.around(out0.flatten()))\n",
    "print(\"Confusion matrix for HEAD 0 (length)\\n\")\n",
    "print(cm0)\n",
    "f0 = f1_score(labelste[:,0],np.around(out0.flatten()))\n",
    "print(\"\\nF-Score :\", f0)"
   ]
  },
  {
   "cell_type": "code",
   "execution_count": 15,
   "metadata": {},
   "outputs": [
    {
     "name": "stdout",
     "output_type": "stream",
     "text": [
      "Confusion matrix for HEAD 1 (width)\n",
      "\n",
      "[[ 9978     0]\n",
      " [    0 10022]]\n",
      "\n",
      "F-Score : 1.0\n"
     ]
    }
   ],
   "source": [
    "cm1 = conmat(labelste[:,1],np.around(out1.flatten()))\n",
    "print(\"Confusion matrix for HEAD 1 (width)\\n\")\n",
    "print(cm1)\n",
    "f1 = f1_score(labelste[:,1],np.around(out1.flatten()))\n",
    "print(\"\\nF-Score :\", f1)"
   ]
  },
  {
   "cell_type": "code",
   "execution_count": 16,
   "metadata": {},
   "outputs": [
    {
     "name": "stdout",
     "output_type": "stream",
     "text": [
      "Confusion matrix for HEAD 2 (color)\n",
      "\n",
      "[[ 9972     0]\n",
      " [    0 10028]]\n",
      "\n",
      "F-Score : 1.0\n"
     ]
    }
   ],
   "source": [
    "cm2 = conmat(labelste[:,3],np.around(out2.flatten()))\n",
    "print(\"Confusion matrix for HEAD 2 (color)\\n\")\n",
    "print(cm2)\n",
    "f2 = f1_score(labelste[:,3],np.around(out2.flatten()))\n",
    "print(\"\\nF-Score :\", f2)"
   ]
  },
  {
   "cell_type": "code",
   "execution_count": 17,
   "metadata": {},
   "outputs": [
    {
     "name": "stdout",
     "output_type": "stream",
     "text": [
      "Confusion matrix for HEAD 3 (angle)\n",
      "\n",
      "[[1673    0    0    0    0    0    0    0    0    0    0    2]\n",
      " [   5 1685    2    0    0    0    0    0    0    0    0    0]\n",
      " [   1    6 1696    9    0    0    0    0    0    0    0    0]\n",
      " [   0    0    3 1613    1    0    0    0    0    0    0    0]\n",
      " [   0    0    0    3 1602    0    0    0    0    0    0    0]\n",
      " [   0    0    0    0    0 1678    0    0    0    0    0    0]\n",
      " [   0    0    0    0    0    0 1645    2    0    0    0    0]\n",
      " [   0    0    0    0    0    0    1 1651    1    0    0    0]\n",
      " [   0    0    0    0    0    0    1    1 1716    0    0    0]\n",
      " [   0    0    0    0    0    0    0    0    7 1646    0    0]\n",
      " [   0    0    0    0    0    0    0    0    0    2 1658   14]\n",
      " [   4    0    0    0    0    0    0    0    0    0    0 1672]]\n",
      "\n",
      "F-Score : 0.9967498468922741\n"
     ]
    }
   ],
   "source": [
    "cm3 = conmat(labelste[:,2],np.argmax(out3, 1))\n",
    "print(\"Confusion matrix for HEAD 3 (angle)\\n\")\n",
    "print(cm3)\n",
    "f3 = f1_score(labelste[:,2],np.argmax(out3, 1), average='weighted')\n",
    "print(\"\\nF-Score :\", f3)"
   ]
  }
 ],
 "metadata": {
  "kernelspec": {
   "display_name": "Python 3",
   "language": "python",
   "name": "python3"
  },
  "language_info": {
   "codemirror_mode": {
    "name": "ipython",
    "version": 3
   },
   "file_extension": ".py",
   "mimetype": "text/x-python",
   "name": "python",
   "nbconvert_exporter": "python",
   "pygments_lexer": "ipython3",
   "version": "3.6.8"
  }
 },
 "nbformat": 4,
 "nbformat_minor": 2
}
